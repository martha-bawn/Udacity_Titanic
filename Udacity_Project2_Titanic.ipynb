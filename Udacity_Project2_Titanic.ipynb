{
 "cells": [
  {
   "cell_type": "code",
   "execution_count": 50,
   "metadata": {
    "collapsed": false
   },
   "outputs": [
    {
     "name": "stdout",
     "output_type": "stream",
     "text": [
      "             Survived  Pclass  \\\n",
      "PassengerId                     \n",
      "1                   0       3   \n",
      "2                   1       1   \n",
      "3                   1       3   \n",
      "4                   1       1   \n",
      "5                   0       3   \n",
      "6                   0       3   \n",
      "7                   0       1   \n",
      "8                   0       3   \n",
      "9                   1       3   \n",
      "10                  1       2   \n",
      "\n",
      "                                                          Name     Sex   Age  \\\n",
      "PassengerId                                                                    \n",
      "1                                      Braund, Mr. Owen Harris    male  22.0   \n",
      "2            Cumings, Mrs. John Bradley (Florence Briggs Th...  female  38.0   \n",
      "3                                       Heikkinen, Miss. Laina  female  26.0   \n",
      "4                 Futrelle, Mrs. Jacques Heath (Lily May Peel)  female  35.0   \n",
      "5                                     Allen, Mr. William Henry    male  35.0   \n",
      "6                                             Moran, Mr. James    male   NaN   \n",
      "7                                      McCarthy, Mr. Timothy J    male  54.0   \n",
      "8                               Palsson, Master. Gosta Leonard    male   2.0   \n",
      "9            Johnson, Mrs. Oscar W (Elisabeth Vilhelmina Berg)  female  27.0   \n",
      "10                         Nasser, Mrs. Nicholas (Adele Achem)  female  14.0   \n",
      "\n",
      "             SibSp  Parch            Ticket     Fare Cabin Embarked  \n",
      "PassengerId                                                          \n",
      "1                1      0         A/5 21171   7.2500   NaN        S  \n",
      "2                1      0          PC 17599  71.2833   C85        C  \n",
      "3                0      0  STON/O2. 3101282   7.9250   NaN        S  \n",
      "4                1      0            113803  53.1000  C123        S  \n",
      "5                0      0            373450   8.0500   NaN        S  \n",
      "6                0      0            330877   8.4583   NaN        Q  \n",
      "7                0      0             17463  51.8625   E46        S  \n",
      "8                3      1            349909  21.0750   NaN        S  \n",
      "9                0      2            347742  11.1333   NaN        S  \n",
      "10               1      0            237736  30.0708   NaN        C  \n"
     ]
    }
   ],
   "source": [
    "import pandas as pd\n",
    "import numpy as np\n",
    "import matplotlib.pyplot as plt\n",
    "import seaborn as sns\n",
    "from scipy import stats\n",
    "from statsmodels.stats import proportion\n",
    "\n",
    "## Load the Titanic data and get a sense of what kind of information we have\n",
    "titanic_df = pd.read_csv('titanic-data.csv', index_col='PassengerId')\n",
    "print titanic_df.iloc[:10,:]"
   ]
  },
  {
   "cell_type": "markdown",
   "metadata": {},
   "source": [
    "Here are some questions that come to mind:\n",
    "\n",
    "* What were the rates of survival for \n",
    "  * men vs. women?\n",
    "  * among the three classes?\n",
    "  * children vs. adults?\n",
    "  * people traveling alone vs. with family?\n",
    "* How were the fares determined?"
   ]
  },
  {
   "cell_type": "code",
   "execution_count": 51,
   "metadata": {
    "collapsed": false
   },
   "outputs": [
    {
     "name": "stdout",
     "output_type": "stream",
     "text": [
      "<class 'pandas.core.frame.DataFrame'>\n",
      "Int64Index: 891 entries, 1 to 891\n",
      "Data columns (total 11 columns):\n",
      "Survived    891 non-null int64\n",
      "Pclass      891 non-null int64\n",
      "Name        891 non-null object\n",
      "Sex         891 non-null object\n",
      "Age         714 non-null float64\n",
      "SibSp       891 non-null int64\n",
      "Parch       891 non-null int64\n",
      "Ticket      891 non-null object\n",
      "Fare        891 non-null float64\n",
      "Cabin       204 non-null object\n",
      "Embarked    889 non-null object\n",
      "dtypes: float64(2), int64(4), object(5)\n",
      "memory usage: 83.5+ KB\n"
     ]
    }
   ],
   "source": [
    "## Look for missing values\n",
    "titanic_df.info()"
   ]
  },
  {
   "cell_type": "markdown",
   "metadata": {},
   "source": [
    "Several of the columns have missing values. For age, I'm going to group the passengers by age group (child, adult, and senior), so I will assign a fourth category, unknown, to those with missing age values. For the two missing values in the Embarked, I'll do a similar thing - create a new column with more descriptive values, and categorize the missing values as unknown. Most of the passengers do not have cabin information, but I don't think I will use that column anyway, so I'll leave that alone."
   ]
  },
  {
   "cell_type": "code",
   "execution_count": 52,
   "metadata": {
    "collapsed": false
   },
   "outputs": [
    {
     "name": "stdout",
     "output_type": "stream",
     "text": [
      "              Age AgeGroup\n",
      "PassengerId               \n",
      "1            22.0    adult\n",
      "2            38.0    adult\n",
      "3            26.0    adult\n",
      "4            35.0    adult\n",
      "5            35.0    adult\n",
      "6             NaN  unknown\n",
      "7            54.0    adult\n",
      "8             2.0    child\n",
      "9            27.0    adult\n",
      "10           14.0    child\n",
      "11            4.0    child\n",
      "12           58.0    adult\n",
      "13           20.0    adult\n",
      "14           39.0    adult\n",
      "15           14.0    child\n",
      "16           55.0    adult\n",
      "17            2.0    child\n",
      "18            NaN  unknown\n",
      "19           31.0    adult\n",
      "20            NaN  unknown\n"
     ]
    }
   ],
   "source": [
    "## Add a categorical age group column\n",
    "def age_category(age):\n",
    "    if pd.isnull(age):\n",
    "        return 'unknown'\n",
    "    elif age < 18:\n",
    "        return 'child'\n",
    "    elif age < 60:\n",
    "        return 'adult'\n",
    "    else:\n",
    "        return 'senior'\n",
    "    \n",
    "titanic_df['AgeGroup'] = titanic_df['Age'].apply(age_category)\n",
    "print titanic_df.iloc[:20][['Age', 'AgeGroup']]    ## make sure it worked"
   ]
  },
  {
   "cell_type": "code",
   "execution_count": 53,
   "metadata": {
    "collapsed": false
   },
   "outputs": [
    {
     "name": "stdout",
     "output_type": "stream",
     "text": [
      "            Embarked         Port\n",
      "PassengerId                      \n",
      "1                  S  Southampton\n",
      "2                  C    Cherbourg\n",
      "3                  S  Southampton\n",
      "4                  S  Southampton\n",
      "5                  S  Southampton\n",
      "6                  Q   Queenstown\n",
      "7                  S  Southampton\n",
      "8                  S  Southampton\n",
      "9                  S  Southampton\n",
      "10                 C    Cherbourg\n",
      "11                 S  Southampton\n",
      "12                 S  Southampton\n",
      "13                 S  Southampton\n",
      "14                 S  Southampton\n",
      "15                 S  Southampton\n",
      "16                 S  Southampton\n",
      "17                 Q   Queenstown\n",
      "18                 S  Southampton\n",
      "19                 S  Southampton\n",
      "20                 C    Cherbourg\n"
     ]
    }
   ],
   "source": [
    "## Add a column with full names of embarkation sites\n",
    "titanic_df['Port'] = titanic_df['Embarked'].map({'C' : 'Cherbourg', 'Q' : 'Queenstown', 'S' : 'Southampton', np.nan : 'Unknown'})\n",
    "print titanic_df.iloc[:20][['Embarked', 'Port']]   ## make sure it worked"
   ]
  },
  {
   "cell_type": "code",
   "execution_count": 54,
   "metadata": {
    "collapsed": false
   },
   "outputs": [
    {
     "name": "stdout",
     "output_type": "stream",
     "text": [
      "Overall survival rate:  0.383838383838\n",
      "Survival rate by gender:  Sex\n",
      "female    0.742038\n",
      "male      0.188908\n",
      "Name: Survived, dtype: float64\n",
      "Populating the interactive namespace from numpy and matplotlib\n"
     ]
    },
    {
     "data": {
      "text/plain": [
       "<matplotlib.text.Text at 0x119d2b4d0>"
      ]
     },
     "execution_count": 54,
     "metadata": {},
     "output_type": "execute_result"
    },
    {
     "data": {
      "image/png": "[encoded data removed]",
      "text/plain": [
       "<matplotlib.figure.Figure at 0x119e4a350>"
      ]
     },
     "metadata": {},
     "output_type": "display_data"
    }
   ],
   "source": [
    "## Get some descriptive statistics\n",
    "overall_survival = titanic_df['Survived']\n",
    "print 'Overall survival rate: ', overall_survival.mean()\n",
    "\n",
    "gender_survival = titanic_df.groupby('Sex')['Survived']\n",
    "print 'Survival rate by gender: ', gender_survival.mean()\n",
    "\n",
    "%pylab inline\n",
    "gender_survival.mean().plot(kind='bar')\n",
    "plt.title('Survival Rate by Gender')"
   ]
  },
  {
   "cell_type": "code",
   "execution_count": 55,
   "metadata": {
    "collapsed": false
   },
   "outputs": [
    {
     "name": "stdout",
     "output_type": "stream",
     "text": [
      "Survival rate by class:  Pclass\n",
      "1    0.629630\n",
      "2    0.472826\n",
      "3    0.242363\n",
      "Name: Survived, dtype: float64\n"
     ]
    },
    {
     "data": {
      "text/plain": [
       "<matplotlib.text.Text at 0x11a53a4d0>"
      ]
     },
     "execution_count": 55,
     "metadata": {},
     "output_type": "execute_result"
    },
    {
     "data": {
      "image/png": "[encoded data removed]",
      "text/plain": [
       "<matplotlib.figure.Figure at 0x119eb1b50>"
      ]
     },
     "metadata": {},
     "output_type": "display_data"
    }
   ],
   "source": [
    "class_survival = titanic_df.groupby('Pclass')['Survived']\n",
    "print 'Survival rate by class: ', class_survival.mean()\n",
    "\n",
    "class_survival.mean().plot(kind='bar')\n",
    "plt.title('Survival Rate by Class')"
   ]
  },
  {
   "cell_type": "markdown",
   "metadata": {},
   "source": [
    "I found the overall survival rate as a point of comparison: 38.38%.\n",
    "\n",
    "For men, the survival rate was 18.89% and for women, it was 74.20%.\n",
    "\n",
    "And when broken down by class, 1st class had a 62.96% survival rate, 2nd class had 47.28%, and 3rd class had 24.24%.\n",
    "\n",
    "These appear to be significantly different, but we can confirm this with statistical tests."
   ]
  },
  {
   "cell_type": "code",
   "execution_count": 56,
   "metadata": {
    "collapsed": false
   },
   "outputs": [
    {
     "name": "stdout",
     "output_type": "stream",
     "text": [
      "t: -19.297817, p: 0.000000\n"
     ]
    }
   ],
   "source": [
    "## independent t-test to compare survival means for male and female passengers\n",
    "\n",
    "female = titanic_df.loc[titanic_df['Sex'] == 'female']['Survived']\n",
    "male = titanic_df.loc[titanic_df['Sex'] == 'male']['Survived']\n",
    "\n",
    "t_test = stats.ttest_ind(male, female)\n",
    "print \"t: %f, p: %f\" %t_test"
   ]
  },
  {
   "cell_type": "code",
   "execution_count": 57,
   "metadata": {
    "collapsed": false
   },
   "outputs": [
    {
     "name": "stdout",
     "output_type": "stream",
     "text": [
      "first vs. second class t: 3.178614, p: 0.001595\n",
      "second vs. third class t: 5.930638, p: 0.000000\n"
     ]
    }
   ],
   "source": [
    "## independent t-test to compare survival means for classes\n",
    "\n",
    "first = titanic_df.loc[titanic_df['Pclass'] == 1]['Survived']\n",
    "second = titanic_df.loc[titanic_df['Pclass'] == 2]['Survived']\n",
    "third = titanic_df.loc[titanic_df['Pclass'] == 3]['Survived']\n",
    "\n",
    "## first vs. second class\n",
    "t_test = stats.ttest_ind(first, second)\n",
    "print \"first vs. second class t: %f, p: %f\" %t_test\n",
    "\n",
    "## second vs. third class\n",
    "t_test = stats.ttest_ind(second, third)\n",
    "print \"second vs. third class t: %f, p: %f\" %t_test"
   ]
  },
  {
   "cell_type": "markdown",
   "metadata": {},
   "source": [
    "From these independent t-tests, at an alpha value of 0.05, women were significantly more likely to survive than men, and first class passengers were significantly more likely to survive than second class passengers, who were in turn more likely to survive than third class passengers."
   ]
  },
  {
   "cell_type": "code",
   "execution_count": 58,
   "metadata": {
    "collapsed": false
   },
   "outputs": [
    {
     "name": "stdout",
     "output_type": "stream",
     "text": [
      "X^2: 106.967888, p: 0.000000\n"
     ]
    }
   ],
   "source": [
    "## Proportion Chi-Squared test to compare survival rate for male and female passengers\n",
    "\n",
    "prop_test = stats.chi2_contingency(([female.sum(), male.sum()], \n",
    "                                      [female.count(), male.count()]))\n",
    "\n",
    "print \"X^2: %f, p: %f\" %prop_test[:2]"
   ]
  },
  {
   "cell_type": "code",
   "execution_count": 59,
   "metadata": {
    "collapsed": false
   },
   "outputs": [
    {
     "name": "stdout",
     "output_type": "stream",
     "text": [
      "X^2: 44.047700, p: 0.000000\n"
     ]
    }
   ],
   "source": [
    "## Proportion Chi-Squared test to compare survival rate by class\n",
    "\n",
    "prop_test = stats.chi2_contingency(([first.sum(), second.sum(), third.sum()], \n",
    "                                    [first.count(), second.count(), third.count()]))\n",
    "\n",
    "print \"X^2: %f, p: %f\" %prop_test[:2]"
   ]
  },
  {
   "cell_type": "markdown",
   "metadata": {},
   "source": [
    "Treating the survival rates as proportions and using a Chi-Squared test gives the same results."
   ]
  },
  {
   "cell_type": "code",
   "execution_count": 60,
   "metadata": {
    "collapsed": false
   },
   "outputs": [
    {
     "name": "stdout",
     "output_type": "stream",
     "text": [
      "Survival rate by age group:  AgeGroup       \n",
      "adult     count    575.000000\n",
      "          mean       0.386087\n",
      "          std        0.487275\n",
      "          min        0.000000\n",
      "          25%        0.000000\n",
      "          50%        0.000000\n",
      "          75%        1.000000\n",
      "          max        1.000000\n",
      "child     count    113.000000\n",
      "          mean       0.539823\n",
      "          std        0.500632\n",
      "          min        0.000000\n",
      "          25%        0.000000\n",
      "          50%        1.000000\n",
      "          75%        1.000000\n",
      "          max        1.000000\n",
      "senior    count     26.000000\n",
      "          mean       0.269231\n",
      "          std        0.452344\n",
      "          min        0.000000\n",
      "          25%        0.000000\n",
      "          50%        0.000000\n",
      "          75%        0.750000\n",
      "          max        1.000000\n",
      "unknown   count    177.000000\n",
      "          mean       0.293785\n",
      "          std        0.456787\n",
      "          min        0.000000\n",
      "          25%        0.000000\n",
      "          50%        0.000000\n",
      "          75%        1.000000\n",
      "          max        1.000000\n",
      "Name: Survived, dtype: float64\n"
     ]
    },
    {
     "data": {
      "text/plain": [
       "<matplotlib.text.Text at 0x11a738690>"
      ]
     },
     "execution_count": 60,
     "metadata": {},
     "output_type": "execute_result"
    },
    {
     "data": {
      "image/png": "[encoded data removed]",
      "text/plain": [
       "<matplotlib.figure.Figure at 0x11a4a7350>"
      ]
     },
     "metadata": {},
     "output_type": "display_data"
    }
   ],
   "source": [
    "agegroup_survival = titanic_df.groupby('AgeGroup')['Survived']\n",
    "print 'Survival rate by age group: ', agegroup_survival.describe()\n",
    "\n",
    "agegroup_survival.mean().plot(kind='bar')\n",
    "plt.title('Survival Rate by Age Group')"
   ]
  },
  {
   "cell_type": "markdown",
   "metadata": {},
   "source": [
    "When broken down by age group, adults had a 38.61% survival rate, children had 53.98%, and seniors over 60 years old had a 26.92% survival rate."
   ]
  },
  {
   "cell_type": "code",
   "execution_count": 73,
   "metadata": {
    "collapsed": false
   },
   "outputs": [
    {
     "name": "stdout",
     "output_type": "stream",
     "text": [
      "child vs. adult t: 3.052244, p: 0.002359\n",
      "adult vs. senior t: -1.199548, p: 0.230789\n",
      "child vs. senior t: 2.527641, p: 0.012619\n",
      "X^2: 4.585163, p: 0.101005\n",
      "child vs. adult + senior X^2: 3.549485, p: 0.059564\n"
     ]
    }
   ],
   "source": [
    "## Independent t-test to compare survival means among age groups\n",
    "\n",
    "child = titanic_df.loc[titanic_df['AgeGroup'] == 'child']['Survived']\n",
    "adult = titanic_df.loc[titanic_df['AgeGroup'] == 'adult']['Survived']\n",
    "senior = titanic_df.loc[titanic_df['AgeGroup'] == 'senior']['Survived']\n",
    "\n",
    "## Child vs. Adult\n",
    "t_test = stats.ttest_ind(child, adult)\n",
    "print \"child vs. adult t: %f, p: %f\" %t_test\n",
    "\n",
    "## Adult vs. Senior\n",
    "t_test = stats.ttest_ind(senior, adult)\n",
    "print \"adult vs. senior t: %f, p: %f\" %t_test\n",
    "\n",
    "## Child vs. Senior\n",
    "t_test = stats.ttest_ind(child, senior)\n",
    "print \"child vs. senior t: %f, p: %f\" %t_test\n",
    "\n",
    "## Proportion Chi-Squared test to compare survival rate among age groups\n",
    "\n",
    "prop_test = stats.chi2_contingency(([child.sum(), adult.sum(), senior.sum()], \n",
    "                                    [child.count(), adult.count(), senior.count()]))\n",
    "print \"X^2: %f, p: %f\" %prop_test[:2]\n",
    "\n",
    "# Child vs. Adult + Senior\n",
    "\n",
    "prop_test = stats.chi2_contingency(([child.sum(), adult.sum() + senior.sum()], \n",
    "                                    [child.count(), adult.count() + senior.count()]))\n",
    "print \"child vs. adult + senior X^2: %f, p: %f\" %prop_test[:2]"
   ]
  },
  {
   "cell_type": "markdown",
   "metadata": {},
   "source": [
    "Again using an alpha level of 0.05 and a t-test, children were significantly more likely to survive than either adults or seniors. However, there was no significant difference between adult and senior survival rates. However, the chi-squared test does not show a significant difference."
   ]
  },
  {
   "cell_type": "code",
   "execution_count": 62,
   "metadata": {
    "collapsed": false
   },
   "outputs": [
    {
     "name": "stdout",
     "output_type": "stream",
     "text": [
      "             SibSp  Parch  Alone\n",
      "PassengerId                     \n",
      "1                1      0  False\n",
      "2                1      0  False\n",
      "3                0      0   True\n",
      "4                1      0  False\n",
      "5                0      0   True\n",
      "6                0      0   True\n",
      "7                0      0   True\n",
      "8                3      1  False\n",
      "9                0      2  False\n",
      "10               1      0  False\n",
      "11               1      1  False\n",
      "12               0      0   True\n",
      "13               0      0   True\n",
      "14               1      5  False\n",
      "15               0      0   True\n",
      "16               0      0   True\n",
      "17               4      1  False\n",
      "18               0      0   True\n",
      "19               1      0  False\n",
      "20               0      0   True\n"
     ]
    }
   ],
   "source": [
    "## Similarly, add a column for whether the passenger was traveling alone\n",
    "\n",
    "titanic_df['Alone'] = (titanic_df['SibSp'] == 0) & (titanic_df['Parch'] == 0)\n",
    "print titanic_df.iloc[:20][['SibSp', 'Parch', 'Alone']]    ## make sure it worked"
   ]
  },
  {
   "cell_type": "code",
   "execution_count": 63,
   "metadata": {
    "collapsed": false
   },
   "outputs": [
    {
     "name": "stdout",
     "output_type": "stream",
     "text": [
      "Survival rate by whether passenger traveled alone:  Alone\n",
      "False    0.505650\n",
      "True     0.303538\n",
      "Name: Survived, dtype: float64\n"
     ]
    },
    {
     "data": {
      "text/plain": [
       "<matplotlib.text.Text at 0x11a8d8bd0>"
      ]
     },
     "execution_count": 63,
     "metadata": {},
     "output_type": "execute_result"
    },
    {
     "data": {
      "image/png": "[encoded data removed]",
      "text/plain": [
       "<matplotlib.figure.Figure at 0x11a7a77d0>"
      ]
     },
     "metadata": {},
     "output_type": "display_data"
    }
   ],
   "source": [
    "alone_survival = titanic_df.groupby('Alone')['Survived']\n",
    "print 'Survival rate by whether passenger traveled alone: ', alone_survival.mean()\n",
    "\n",
    "alone_survival.mean().plot(kind='bar')\n",
    "plt.title('Survival Rate by Whether Passenger Traveled Alone')"
   ]
  },
  {
   "cell_type": "markdown",
   "metadata": {},
   "source": [
    "Passengers traveling with family had a 50.57% survival rate, and passengers traveling alone had a 30.35% survival rate."
   ]
  },
  {
   "cell_type": "code",
   "execution_count": 74,
   "metadata": {
    "collapsed": false
   },
   "outputs": [
    {
     "name": "stdout",
     "output_type": "stream",
     "text": [
      "t: -6.193032, p: 0.000000\n",
      "X^2: 15.499619, p: 0.000083\n"
     ]
    }
   ],
   "source": [
    "## Independent t-test to compate survival means between passengers traveling alone and with family\n",
    "\n",
    "alone = titanic_df.loc[titanic_df['Alone'] == True]['Survived']\n",
    "not_alone = titanic_df.loc[titanic_df['Alone'] == False]['Survived']\n",
    "\n",
    "t_test = stats.ttest_ind(alone, not_alone)\n",
    "print \"t: %f, p: %f\" %t_test\n",
    "\n",
    "## Proportion Chi-Squared test to compare survival rate between passengers traveling alone and with family\n",
    "\n",
    "prop_test = stats.chi2_contingency(([alone.sum(), not_alone.sum()], \n",
    "                                    [alone.count(), not_alone.count()]))\n",
    "print \"X^2: %f, p: %f\" %prop_test[:2]"
   ]
  },
  {
   "cell_type": "markdown",
   "metadata": {},
   "source": [
    "At alpha = 0.05, passengers traveling alone were significantly less likely to survive than those traveling with family"
   ]
  },
  {
   "cell_type": "markdown",
   "metadata": {},
   "source": [
    "I'm also interested in what determined the price of the tickets. I would certainly predict that 1st class tickets would be more expensive than 2nd, which would be more expensive than 3rd, but that is clearly not the whole story."
   ]
  },
  {
   "cell_type": "code",
   "execution_count": 65,
   "metadata": {
    "collapsed": false
   },
   "outputs": [
    {
     "name": "stdout",
     "output_type": "stream",
     "text": [
      "Distribution of fare for each class:  Pclass       \n",
      "1       count    216.000000\n",
      "        mean      84.154687\n",
      "        std       78.380373\n",
      "        min        0.000000\n",
      "        25%       30.923950\n",
      "        50%       60.287500\n",
      "        75%       93.500000\n",
      "        max      512.329200\n",
      "2       count    184.000000\n",
      "        mean      20.662183\n",
      "        std       13.417399\n",
      "        min        0.000000\n",
      "        25%       13.000000\n",
      "        50%       14.250000\n",
      "        75%       26.000000\n",
      "        max       73.500000\n",
      "3       count    491.000000\n",
      "        mean      13.675550\n",
      "        std       11.778142\n",
      "        min        0.000000\n",
      "        25%        7.750000\n",
      "        50%        8.050000\n",
      "        75%       15.500000\n",
      "        max       69.550000\n",
      "Name: Fare, dtype: float64\n"
     ]
    },
    {
     "data": {
      "text/plain": [
       "<matplotlib.text.Text at 0x11aa6a850>"
      ]
     },
     "execution_count": 65,
     "metadata": {},
     "output_type": "execute_result"
    },
    {
     "data": {
      "image/png": "[encoded data removed]",
      "text/plain": [
       "<matplotlib.figure.Figure at 0x11a947790>"
      ]
     },
     "metadata": {},
     "output_type": "display_data"
    }
   ],
   "source": [
    "class_fare = titanic_df.groupby('Pclass')['Fare']\n",
    "print 'Distribution of fare for each class: ', class_fare.describe()\n",
    "\n",
    "\n",
    "plt.hist(titanic_df.loc[titanic_df['Pclass'] == 1]['Fare'], bins=26, range=(0,520))\n",
    "plt.title('Histogram of Fares for 1st Class Passengers')"
   ]
  },
  {
   "cell_type": "code",
   "execution_count": 66,
   "metadata": {
    "collapsed": false
   },
   "outputs": [
    {
     "data": {
      "text/plain": [
       "<matplotlib.text.Text at 0x11abb1a10>"
      ]
     },
     "execution_count": 66,
     "metadata": {},
     "output_type": "execute_result"
    },
    {
     "data": {
      "image/png": "[encoded data removed]",
      "text/plain": [
       "<matplotlib.figure.Figure at 0x11a7ad750>"
      ]
     },
     "metadata": {},
     "output_type": "display_data"
    }
   ],
   "source": [
    "plt.hist(titanic_df.loc[titanic_df['Pclass'] == 2]['Fare'], bins=16, range=(0,80))\n",
    "plt.title('Histogram of Fares for 2nd Class Passengers')"
   ]
  },
  {
   "cell_type": "code",
   "execution_count": 67,
   "metadata": {
    "collapsed": false
   },
   "outputs": [
    {
     "data": {
      "text/plain": [
       "<matplotlib.text.Text at 0x11aeb4310>"
      ]
     },
     "execution_count": 67,
     "metadata": {},
     "output_type": "execute_result"
    },
    {
     "data": {
      "image/png": "[encoded data removed]",
      "text/plain": [
       "<matplotlib.figure.Figure at 0x11ae29fd0>"
      ]
     },
     "metadata": {},
     "output_type": "display_data"
    }
   ],
   "source": [
    "plt.hist(titanic_df.loc[titanic_df['Pclass'] == 3]['Fare'], bins=16, range=(0,80))\n",
    "plt.title('Histogram of Fares for 3rd Class Passengers')"
   ]
  },
  {
   "cell_type": "markdown",
   "metadata": {},
   "source": [
    "There is clearly a large variation of fares, and there is a large amount of overlap between the classes in fare prices.  Although class seems to be somewhat related to the price, there are clearly other factors at play. It is likely that these are factors not included in this dataset, such as when and how the ticket was purchased.\n",
    "\n",
    "It's interesting that in each class there are passengers who paid nothing for their ticket. I'm wondering if this is actually the case or whether the 0.0 values are simply missing information."
   ]
  },
  {
   "cell_type": "code",
   "execution_count": 68,
   "metadata": {
    "collapsed": false
   },
   "outputs": [
    {
     "name": "stdout",
     "output_type": "stream",
     "text": [
      "             Survived  Pclass                              Name   Sex   Age  \\\n",
      "PassengerId                                                                   \n",
      "180                 0       3               Leonard, Mr. Lionel  male  36.0   \n",
      "264                 0       1             Harrison, Mr. William  male  40.0   \n",
      "272                 1       3      Tornquist, Mr. William Henry  male  25.0   \n",
      "278                 0       2       Parkes, Mr. Francis \"Frank\"  male   NaN   \n",
      "303                 0       3   Johnson, Mr. William Cahoone Jr  male  19.0   \n",
      "414                 0       2    Cunningham, Mr. Alfred Fleming  male   NaN   \n",
      "467                 0       2             Campbell, Mr. William  male   NaN   \n",
      "482                 0       2  Frost, Mr. Anthony Wood \"Archie\"  male   NaN   \n",
      "598                 0       3               Johnson, Mr. Alfred  male  49.0   \n",
      "634                 0       1     Parr, Mr. William Henry Marsh  male   NaN   \n",
      "675                 0       2        Watson, Mr. Ennis Hastings  male   NaN   \n",
      "733                 0       2              Knight, Mr. Robert J  male   NaN   \n",
      "807                 0       1            Andrews, Mr. Thomas Jr  male  39.0   \n",
      "816                 0       1                  Fry, Mr. Richard  male   NaN   \n",
      "823                 0       1   Reuchlin, Jonkheer. John George  male  38.0   \n",
      "\n",
      "             SibSp  Parch  Ticket  Fare Cabin Embarked AgeGroup         Port  \\\n",
      "PassengerId                                                                    \n",
      "180              0      0    LINE   0.0   NaN        S    adult  Southampton   \n",
      "264              0      0  112059   0.0   B94        S    adult  Southampton   \n",
      "272              0      0    LINE   0.0   NaN        S    adult  Southampton   \n",
      "278              0      0  239853   0.0   NaN        S  unknown  Southampton   \n",
      "303              0      0    LINE   0.0   NaN        S    adult  Southampton   \n",
      "414              0      0  239853   0.0   NaN        S  unknown  Southampton   \n",
      "467              0      0  239853   0.0   NaN        S  unknown  Southampton   \n",
      "482              0      0  239854   0.0   NaN        S  unknown  Southampton   \n",
      "598              0      0    LINE   0.0   NaN        S    adult  Southampton   \n",
      "634              0      0  112052   0.0   NaN        S  unknown  Southampton   \n",
      "675              0      0  239856   0.0   NaN        S  unknown  Southampton   \n",
      "733              0      0  239855   0.0   NaN        S  unknown  Southampton   \n",
      "807              0      0  112050   0.0   A36        S    adult  Southampton   \n",
      "816              0      0  112058   0.0  B102        S  unknown  Southampton   \n",
      "823              0      0   19972   0.0   NaN        S    adult  Southampton   \n",
      "\n",
      "            Alone  \n",
      "PassengerId        \n",
      "180          True  \n",
      "264          True  \n",
      "272          True  \n",
      "278          True  \n",
      "303          True  \n",
      "414          True  \n",
      "467          True  \n",
      "482          True  \n",
      "598          True  \n",
      "634          True  \n",
      "675          True  \n",
      "733          True  \n",
      "807          True  \n",
      "816          True  \n",
      "823          True  \n"
     ]
    }
   ],
   "source": [
    "print titanic_df.loc[titanic_df['Fare'] == 0.0]"
   ]
  },
  {
   "cell_type": "markdown",
   "metadata": {},
   "source": [
    "Looking at these passengers who paid 0.0 for their ticket, there doesn't appear to be an immediate explanation for why this was the case. They are all males traveling alone, embarked from Southampton, and all but one died in the sinking. The ticket numbers are also more limited than the rest of the data, with all but one taking the form of LINE, 11205\\_, or 23985\\_. All of these factors makes me think that possibly these men were contracted to work on the ship in exchange for a free ticket. However, this is purely speculation. \n",
    "\n",
    "I'm going to keep them in the dataset, as it doesn't seem to be simply missing data in the 'Fare' column."
   ]
  },
  {
   "cell_type": "code",
   "execution_count": 69,
   "metadata": {
    "collapsed": false
   },
   "outputs": [
    {
     "name": "stdout",
     "output_type": "stream",
     "text": [
      "                    count        mean        std      min      25%      50%  \\\n",
      "Pclass Port                                                                   \n",
      "1      Cherbourg     85.0  104.718529  99.093935  26.5500  49.5000  78.2667   \n",
      "       Queenstown     2.0   90.000000   0.000000  90.0000  90.0000  90.0000   \n",
      "       Southampton  127.0   70.364862  58.811278   0.0000  29.2500  52.0000   \n",
      "       Unknown        2.0   80.000000   0.000000  80.0000  80.0000  80.0000   \n",
      "2      Cherbourg     17.0   25.358335  11.345067  12.0000  13.8625  24.0000   \n",
      "       Queenstown     3.0   12.350000   0.000000  12.3500  12.3500  12.3500   \n",
      "       Southampton  164.0   20.327439  13.630741   0.0000  13.0000  13.5000   \n",
      "3      Cherbourg     66.0   11.214083   4.871528   4.0125   7.2292   7.8958   \n",
      "       Queenstown    72.0   11.183393   6.721677   6.7500   7.7500   7.7500   \n",
      "       Southampton  353.0   14.644083  13.276609   0.0000   7.8542   8.0500   \n",
      "\n",
      "                           75%       max  \n",
      "Pclass Port                               \n",
      "1      Cherbourg    110.883300  512.3292  \n",
      "       Queenstown    90.000000   90.0000  \n",
      "       Southampton   83.475000  263.0000  \n",
      "       Unknown       80.000000   80.0000  \n",
      "2      Cherbourg     37.004200   41.5792  \n",
      "       Queenstown    12.350000   12.3500  \n",
      "       Southampton   26.000000   73.5000  \n",
      "3      Cherbourg     14.458300   22.3583  \n",
      "       Queenstown    10.218725   29.1250  \n",
      "       Southampton   16.100000   69.5500  \n"
     ]
    }
   ],
   "source": [
    "# print titanic_df.groupby('Port')['Fare', 'Pclass'].describe()\n",
    "\n",
    "print titanic_df.groupby(['Pclass', 'Port'], as_index=False)['Fare'].describe()"
   ]
  },
  {
   "cell_type": "markdown",
   "metadata": {},
   "source": [
    "Looking at these descriptive statistics for the fares grouped by class and embarkation site, there doesn't appear to be any pattern that would suggest that the embarkation site affected the fares. There is no consistency in which site had the cheapest or most expensive fares, by any metric. Based on this, it doesn't look like this is worth investigating further. \n",
    "\n",
    "Unfortunately, I was not able to give a very satisfactory answer to the question about the fares with this data. I can say that class appears to be a factor, but not the only one, and that embarkation site does not appear to be a factor."
   ]
  },
  {
   "cell_type": "markdown",
   "metadata": {},
   "source": [
    "Conclusions\n",
    "\n",
    "I was able to investigate each of my original questions:\n",
    "\n",
    "* What were the rates of survival for \n",
    "  * men vs. women?\n",
    "  * among the three classes?\n",
    "  * children vs. adults?\n",
    "  * people traveling alone vs. with family?\n",
    "* How were the fares determined?\n",
    "\n",
    "For the survival rate questions, the data reflected my expectations. Women were significantly more likely to survive than men, and there were significant differences in survival rate betweent the three classes, with first class passengers most likely to survive, and third class passengers the least. Children were significantly more likely to survive than adults. There was not a significant difference between adults' and seniors' survival rates, but the senior group was fairly small (n=26) and there were many passengers without age data, so these results are more tentative. Finally, passengers traveling alone were significantly less likely to survive than those traveling with family. These results are all correlational, and these are not conclusions about what caused certain passengers to survive. \n",
    "\n",
    "Looking at the fares, I wasn't able to determine much with this dataset. Clearly the class is some part of what determines the fare, but I would need more information to larnt he complete picture. The embarkation port does not appear to be a factor, so I did not do any statistical tests to investigate this further. I would need more information, such as when and how the ticket was purchased, to continue this line of investigation. It would also be interesting to know more information on the passengers who paid 0 fare, particularly whether they were employed on the ship in any capacity, as the data may suggest."
   ]
  },
  {
   "cell_type": "markdown",
   "metadata": {},
   "source": [
    "Sources: I used the pandas and matplotlib documentations for reference, as well as this site: http://iaingallagher.tumblr.com/post/50980987285/t-tests-in-python"
   ]
  },
  {
   "cell_type": "code",
   "execution_count": null,
   "metadata": {
    "collapsed": true
   },
   "outputs": [],
   "source": []
  }
 ],
 "metadata": {
  "anaconda-cloud": {},
  "kernelspec": {
   "display_name": "Python [default]",
   "language": "python",
   "name": "python2"
  },
  "language_info": {
   "codemirror_mode": {
    "name": "ipython",
    "version": 2
   },
   "file_extension": ".py",
   "mimetype": "text/x-python",
   "name": "python",
   "nbconvert_exporter": "python",
   "pygments_lexer": "ipython2",
   "version": "2.7.12"
  }
 },
 "nbformat": 4,
 "nbformat_minor": 1
}
